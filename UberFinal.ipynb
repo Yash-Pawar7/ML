{
 "cells": [
  {
   "cell_type": "code",
   "execution_count": 1,
   "id": "0c628b24",
   "metadata": {},
   "outputs": [],
   "source": [
    "#Predict the price of the Uber ride from a given pickup point to the agreed drop-off location. \n",
    "#Perform following tasks: \n",
    "#1.  Pre-process the dataset. \n",
    "#2.  Identify outliers. \n",
    "#3.  Check the correlation. \n",
    "#4.  Implement linear regression and random forest regression models. \n",
    "#5.  Evaluate the models and compare their respective scores like R2, RMSE, etc. "
   ]
  },
  {
   "cell_type": "code",
   "execution_count": 21,
   "id": "091f3380",
   "metadata": {},
   "outputs": [],
   "source": [
    "import pandas as pd"
   ]
  },
  {
   "cell_type": "code",
   "execution_count": 22,
   "id": "4f8ed2d3",
   "metadata": {},
   "outputs": [],
   "source": [
    "import numpy as np\n",
    "import seaborn as sns"
   ]
  },
  {
   "cell_type": "code",
   "execution_count": 23,
   "id": "f099b2d6",
   "metadata": {},
   "outputs": [],
   "source": [
    "dataframe=pd.read_csv(\"uber.csv\")"
   ]
  },
  {
   "cell_type": "code",
   "execution_count": 24,
   "id": "cae0f2ee",
   "metadata": {},
   "outputs": [],
   "source": [
    "df=dataframe"
   ]
  },
  {
   "cell_type": "code",
   "execution_count": 25,
   "id": "e4d06858",
   "metadata": {},
   "outputs": [
    {
     "data": {
      "text/plain": [
       "Unnamed: 0           0\n",
       "key                  0\n",
       "fare_amount          0\n",
       "pickup_datetime      0\n",
       "pickup_longitude     0\n",
       "pickup_latitude      0\n",
       "dropoff_longitude    1\n",
       "dropoff_latitude     1\n",
       "passenger_count      0\n",
       "dtype: int64"
      ]
     },
     "execution_count": 25,
     "metadata": {},
     "output_type": "execute_result"
    }
   ],
   "source": [
    "df.isnull().sum()"
   ]
  },
  {
   "cell_type": "code",
   "execution_count": 27,
   "id": "bd6d1728",
   "metadata": {},
   "outputs": [],
   "source": [
    "df=df.dropna()"
   ]
  },
  {
   "cell_type": "code",
   "execution_count": 28,
   "id": "d044c074",
   "metadata": {},
   "outputs": [
    {
     "data": {
      "text/plain": [
       "Unnamed: 0           0\n",
       "key                  0\n",
       "fare_amount          0\n",
       "pickup_datetime      0\n",
       "pickup_longitude     0\n",
       "pickup_latitude      0\n",
       "dropoff_longitude    0\n",
       "dropoff_latitude     0\n",
       "passenger_count      0\n",
       "dtype: int64"
      ]
     },
     "execution_count": 28,
     "metadata": {},
     "output_type": "execute_result"
    }
   ],
   "source": [
    "df.isnull().sum()"
   ]
  },
  {
   "cell_type": "code",
   "execution_count": 29,
   "id": "ee055dc8",
   "metadata": {},
   "outputs": [],
   "source": [
    "df=df.drop(['Unnamed: 0','key'],axis=1)"
   ]
  },
  {
   "cell_type": "code",
   "execution_count": 30,
   "id": "fa345f3e",
   "metadata": {},
   "outputs": [
    {
     "data": {
      "text/plain": [
       "Index(['fare_amount', 'pickup_datetime', 'pickup_longitude', 'pickup_latitude',\n",
       "       'dropoff_longitude', 'dropoff_latitude', 'passenger_count'],\n",
       "      dtype='object')"
      ]
     },
     "execution_count": 30,
     "metadata": {},
     "output_type": "execute_result"
    }
   ],
   "source": [
    "df.columns"
   ]
  },
  {
   "cell_type": "code",
   "execution_count": 31,
   "id": "84f3ee3d",
   "metadata": {},
   "outputs": [],
   "source": [
    "df['pickup_datetime']=pd.to_datetime(df['pickup_datetime'])"
   ]
  },
  {
   "cell_type": "code",
   "execution_count": 32,
   "id": "83738777",
   "metadata": {},
   "outputs": [
    {
     "data": {
      "text/plain": [
       "datetime64[ns, UTC]"
      ]
     },
     "execution_count": 32,
     "metadata": {},
     "output_type": "execute_result"
    }
   ],
   "source": [
    "df['pickup_datetime'].dtypes"
   ]
  },
  {
   "cell_type": "code",
   "execution_count": 33,
   "id": "92770ce9",
   "metadata": {},
   "outputs": [],
   "source": [
    "df['hour']=df['pickup_datetime'].dt.hour\n",
    "df['day']=df['pickup_datetime'].dt.day\n",
    "df['month']=df['pickup_datetime'].dt.month"
   ]
  },
  {
   "cell_type": "code",
   "execution_count": 34,
   "id": "19921ffa",
   "metadata": {},
   "outputs": [
    {
     "data": {
      "text/plain": [
       "Index(['fare_amount', 'pickup_datetime', 'pickup_longitude', 'pickup_latitude',\n",
       "       'dropoff_longitude', 'dropoff_latitude', 'passenger_count', 'hour',\n",
       "       'day', 'month'],\n",
       "      dtype='object')"
      ]
     },
     "execution_count": 34,
     "metadata": {},
     "output_type": "execute_result"
    }
   ],
   "source": [
    "df.columns"
   ]
  },
  {
   "cell_type": "code",
   "execution_count": 35,
   "id": "74917393",
   "metadata": {},
   "outputs": [
    {
     "data": {
      "text/html": [
       "<div>\n",
       "<style scoped>\n",
       "    .dataframe tbody tr th:only-of-type {\n",
       "        vertical-align: middle;\n",
       "    }\n",
       "\n",
       "    .dataframe tbody tr th {\n",
       "        vertical-align: top;\n",
       "    }\n",
       "\n",
       "    .dataframe thead th {\n",
       "        text-align: right;\n",
       "    }\n",
       "</style>\n",
       "<table border=\"1\" class=\"dataframe\">\n",
       "  <thead>\n",
       "    <tr style=\"text-align: right;\">\n",
       "      <th></th>\n",
       "      <th>fare_amount</th>\n",
       "      <th>pickup_datetime</th>\n",
       "      <th>pickup_longitude</th>\n",
       "      <th>pickup_latitude</th>\n",
       "      <th>dropoff_longitude</th>\n",
       "      <th>dropoff_latitude</th>\n",
       "      <th>passenger_count</th>\n",
       "      <th>hour</th>\n",
       "      <th>day</th>\n",
       "      <th>month</th>\n",
       "    </tr>\n",
       "  </thead>\n",
       "  <tbody>\n",
       "    <tr>\n",
       "      <th>0</th>\n",
       "      <td>7.5</td>\n",
       "      <td>2015-05-07 19:52:06+00:00</td>\n",
       "      <td>-73.999817</td>\n",
       "      <td>40.738354</td>\n",
       "      <td>-73.999512</td>\n",
       "      <td>40.723217</td>\n",
       "      <td>1</td>\n",
       "      <td>19</td>\n",
       "      <td>7</td>\n",
       "      <td>5</td>\n",
       "    </tr>\n",
       "    <tr>\n",
       "      <th>1</th>\n",
       "      <td>7.7</td>\n",
       "      <td>2009-07-17 20:04:56+00:00</td>\n",
       "      <td>-73.994355</td>\n",
       "      <td>40.728225</td>\n",
       "      <td>-73.994710</td>\n",
       "      <td>40.750325</td>\n",
       "      <td>1</td>\n",
       "      <td>20</td>\n",
       "      <td>17</td>\n",
       "      <td>7</td>\n",
       "    </tr>\n",
       "    <tr>\n",
       "      <th>2</th>\n",
       "      <td>12.9</td>\n",
       "      <td>2009-08-24 21:45:00+00:00</td>\n",
       "      <td>-74.005043</td>\n",
       "      <td>40.740770</td>\n",
       "      <td>-73.962565</td>\n",
       "      <td>40.772647</td>\n",
       "      <td>1</td>\n",
       "      <td>21</td>\n",
       "      <td>24</td>\n",
       "      <td>8</td>\n",
       "    </tr>\n",
       "    <tr>\n",
       "      <th>3</th>\n",
       "      <td>5.3</td>\n",
       "      <td>2009-06-26 08:22:21+00:00</td>\n",
       "      <td>-73.976124</td>\n",
       "      <td>40.790844</td>\n",
       "      <td>-73.965316</td>\n",
       "      <td>40.803349</td>\n",
       "      <td>3</td>\n",
       "      <td>8</td>\n",
       "      <td>26</td>\n",
       "      <td>6</td>\n",
       "    </tr>\n",
       "    <tr>\n",
       "      <th>4</th>\n",
       "      <td>16.0</td>\n",
       "      <td>2014-08-28 17:47:00+00:00</td>\n",
       "      <td>-73.925023</td>\n",
       "      <td>40.744085</td>\n",
       "      <td>-73.973082</td>\n",
       "      <td>40.761247</td>\n",
       "      <td>5</td>\n",
       "      <td>17</td>\n",
       "      <td>28</td>\n",
       "      <td>8</td>\n",
       "    </tr>\n",
       "  </tbody>\n",
       "</table>\n",
       "</div>"
      ],
      "text/plain": [
       "   fare_amount           pickup_datetime  pickup_longitude  pickup_latitude  \\\n",
       "0          7.5 2015-05-07 19:52:06+00:00        -73.999817        40.738354   \n",
       "1          7.7 2009-07-17 20:04:56+00:00        -73.994355        40.728225   \n",
       "2         12.9 2009-08-24 21:45:00+00:00        -74.005043        40.740770   \n",
       "3          5.3 2009-06-26 08:22:21+00:00        -73.976124        40.790844   \n",
       "4         16.0 2014-08-28 17:47:00+00:00        -73.925023        40.744085   \n",
       "\n",
       "   dropoff_longitude  dropoff_latitude  passenger_count  hour  day  month  \n",
       "0         -73.999512         40.723217                1    19    7      5  \n",
       "1         -73.994710         40.750325                1    20   17      7  \n",
       "2         -73.962565         40.772647                1    21   24      8  \n",
       "3         -73.965316         40.803349                3     8   26      6  \n",
       "4         -73.973082         40.761247                5    17   28      8  "
      ]
     },
     "execution_count": 35,
     "metadata": {},
     "output_type": "execute_result"
    }
   ],
   "source": [
    "df.head()"
   ]
  },
  {
   "cell_type": "code",
   "execution_count": 36,
   "id": "9a00a7e6",
   "metadata": {},
   "outputs": [],
   "source": [
    "df.drop('pickup_datetime',axis=1,inplace=True)"
   ]
  },
  {
   "cell_type": "code",
   "execution_count": 37,
   "id": "81d5c131",
   "metadata": {},
   "outputs": [
    {
     "data": {
      "text/html": [
       "<div>\n",
       "<style scoped>\n",
       "    .dataframe tbody tr th:only-of-type {\n",
       "        vertical-align: middle;\n",
       "    }\n",
       "\n",
       "    .dataframe tbody tr th {\n",
       "        vertical-align: top;\n",
       "    }\n",
       "\n",
       "    .dataframe thead th {\n",
       "        text-align: right;\n",
       "    }\n",
       "</style>\n",
       "<table border=\"1\" class=\"dataframe\">\n",
       "  <thead>\n",
       "    <tr style=\"text-align: right;\">\n",
       "      <th></th>\n",
       "      <th>fare_amount</th>\n",
       "      <th>pickup_longitude</th>\n",
       "      <th>pickup_latitude</th>\n",
       "      <th>dropoff_longitude</th>\n",
       "      <th>dropoff_latitude</th>\n",
       "      <th>passenger_count</th>\n",
       "      <th>hour</th>\n",
       "      <th>day</th>\n",
       "      <th>month</th>\n",
       "    </tr>\n",
       "  </thead>\n",
       "  <tbody>\n",
       "    <tr>\n",
       "      <th>0</th>\n",
       "      <td>7.5</td>\n",
       "      <td>-73.999817</td>\n",
       "      <td>40.738354</td>\n",
       "      <td>-73.999512</td>\n",
       "      <td>40.723217</td>\n",
       "      <td>1</td>\n",
       "      <td>19</td>\n",
       "      <td>7</td>\n",
       "      <td>5</td>\n",
       "    </tr>\n",
       "    <tr>\n",
       "      <th>1</th>\n",
       "      <td>7.7</td>\n",
       "      <td>-73.994355</td>\n",
       "      <td>40.728225</td>\n",
       "      <td>-73.994710</td>\n",
       "      <td>40.750325</td>\n",
       "      <td>1</td>\n",
       "      <td>20</td>\n",
       "      <td>17</td>\n",
       "      <td>7</td>\n",
       "    </tr>\n",
       "    <tr>\n",
       "      <th>2</th>\n",
       "      <td>12.9</td>\n",
       "      <td>-74.005043</td>\n",
       "      <td>40.740770</td>\n",
       "      <td>-73.962565</td>\n",
       "      <td>40.772647</td>\n",
       "      <td>1</td>\n",
       "      <td>21</td>\n",
       "      <td>24</td>\n",
       "      <td>8</td>\n",
       "    </tr>\n",
       "    <tr>\n",
       "      <th>3</th>\n",
       "      <td>5.3</td>\n",
       "      <td>-73.976124</td>\n",
       "      <td>40.790844</td>\n",
       "      <td>-73.965316</td>\n",
       "      <td>40.803349</td>\n",
       "      <td>3</td>\n",
       "      <td>8</td>\n",
       "      <td>26</td>\n",
       "      <td>6</td>\n",
       "    </tr>\n",
       "    <tr>\n",
       "      <th>4</th>\n",
       "      <td>16.0</td>\n",
       "      <td>-73.925023</td>\n",
       "      <td>40.744085</td>\n",
       "      <td>-73.973082</td>\n",
       "      <td>40.761247</td>\n",
       "      <td>5</td>\n",
       "      <td>17</td>\n",
       "      <td>28</td>\n",
       "      <td>8</td>\n",
       "    </tr>\n",
       "  </tbody>\n",
       "</table>\n",
       "</div>"
      ],
      "text/plain": [
       "   fare_amount  pickup_longitude  pickup_latitude  dropoff_longitude  \\\n",
       "0          7.5        -73.999817        40.738354         -73.999512   \n",
       "1          7.7        -73.994355        40.728225         -73.994710   \n",
       "2         12.9        -74.005043        40.740770         -73.962565   \n",
       "3          5.3        -73.976124        40.790844         -73.965316   \n",
       "4         16.0        -73.925023        40.744085         -73.973082   \n",
       "\n",
       "   dropoff_latitude  passenger_count  hour  day  month  \n",
       "0         40.723217                1    19    7      5  \n",
       "1         40.750325                1    20   17      7  \n",
       "2         40.772647                1    21   24      8  \n",
       "3         40.803349                3     8   26      6  \n",
       "4         40.761247                5    17   28      8  "
      ]
     },
     "execution_count": 37,
     "metadata": {},
     "output_type": "execute_result"
    }
   ],
   "source": [
    "df.head()"
   ]
  },
  {
   "cell_type": "markdown",
   "id": "3357d35f",
   "metadata": {},
   "source": [
    "## Outliers"
   ]
  },
  {
   "cell_type": "code",
   "execution_count": 38,
   "id": "28d0f089",
   "metadata": {},
   "outputs": [
    {
     "data": {
      "text/plain": [
       "<Axes: >"
      ]
     },
     "execution_count": 38,
     "metadata": {},
     "output_type": "execute_result"
    },
    {
     "data": {
      "image/png": "[encoded data removed]",
      "text/plain": [
       "<Figure size 640x480 with 1 Axes>"
      ]
     },
     "metadata": {},
     "output_type": "display_data"
    }
   ],
   "source": [
    "sns.boxplot(df['fare_amount'])"
   ]
  },
  {
   "cell_type": "code",
   "execution_count": 39,
   "id": "f0e86de4",
   "metadata": {},
   "outputs": [
    {
     "name": "stdout",
     "output_type": "stream",
     "text": [
      "The outliers detected: \n",
      "        fare_amount  pickup_longitude  pickup_latitude  dropoff_longitude  \\\n",
      "6             24.50        -73.961447        40.693965         -73.871195   \n",
      "30            25.70        -73.944815        40.834367         -73.989332   \n",
      "34            39.50        -73.788080        40.642187         -73.865042   \n",
      "39            29.00        -73.992600        40.753172         -73.908508   \n",
      "48            56.80        -73.993498        40.764686         -73.993498   \n",
      "...             ...               ...              ...                ...   \n",
      "199976        49.70        -73.978225        40.783318         -73.700963   \n",
      "199977        43.50        -73.996671        40.737483         -73.867758   \n",
      "199982        57.33        -73.969204        40.754771         -73.790351   \n",
      "199985        24.00        -74.005089        40.737301         -73.945290   \n",
      "199997        30.90        -73.986017        40.756487         -73.858957   \n",
      "\n",
      "        dropoff_latitude  passenger_count  hour  day  month  \n",
      "6              40.774297                5     7   12     10  \n",
      "30             40.721920                4     9   21      5  \n",
      "34             40.725997                4     6    4      6  \n",
      "39             40.816192                1    17   13      2  \n",
      "48             40.764686                1    22    3      1  \n",
      "...                  ...              ...   ...  ...    ...  \n",
      "199976         40.705852                1    23   18     10  \n",
      "199977         40.897563                1    21   20     11  \n",
      "199982         40.643802                1    11    6      8  \n",
      "199985         40.774162                5    15   18      4  \n",
      "199997         40.692588                2     0   29      6  \n",
      "\n",
      "[17166 rows x 9 columns]\n"
     ]
    }
   ],
   "source": [
    "#calculate IQR \n",
    "Q1=df['fare_amount'].quantile(0.25)\n",
    "Q3=df['fare_amount'].quantile(0.75)\n",
    "\n",
    "IQR=Q3-Q1\n",
    "\n",
    "lower_bound=Q1-1.5*IQR\n",
    "upper_bound=Q3+1.5*IQR\n",
    "\n",
    "outliers=df[(df['fare_amount'] < lower_bound) | (df['fare_amount'] > upper_bound)]\n",
    "\n",
    "print('The outliers detected: ')\n",
    "print(outliers)"
   ]
  },
  {
   "cell_type": "code",
   "execution_count": 40,
   "id": "0b96ef52",
   "metadata": {},
   "outputs": [
    {
     "name": "stdout",
     "output_type": "stream",
     "text": [
      "Maximum value in the outlier is: fare_amount          499.000000\n",
      "pickup_longitude      40.775330\n",
      "pickup_latitude       42.478467\n",
      "dropoff_longitude     40.828672\n",
      "dropoff_latitude      42.464187\n",
      "passenger_count        6.000000\n",
      "hour                  23.000000\n",
      "day                   31.000000\n",
      "month                 12.000000\n",
      "dtype: float64\n"
     ]
    }
   ],
   "source": [
    "print('Maximum value in the outlier is: '+ str(outliers.max()))"
   ]
  },
  {
   "cell_type": "code",
   "execution_count": 41,
   "id": "89e39c98",
   "metadata": {},
   "outputs": [],
   "source": [
    "df=df[(df['fare_amount'] >= lower_bound) & (df['fare_amount'] <= upper_bound)]    #Removed outliers"
   ]
  },
  {
   "cell_type": "markdown",
   "id": "eefe5960",
   "metadata": {},
   "source": [
    "## Checking Correlation"
   ]
  },
  {
   "cell_type": "code",
   "execution_count": 42,
   "id": "55db0294",
   "metadata": {},
   "outputs": [
    {
     "name": "stdout",
     "output_type": "stream",
     "text": [
      "                   fare_amount  pickup_longitude  pickup_latitude  \\\n",
      "fare_amount           1.000000          0.000367         0.002618   \n",
      "pickup_longitude      0.000367          1.000000        -0.812047   \n",
      "pickup_latitude       0.002618         -0.812047         1.000000   \n",
      "dropoff_longitude    -0.002413          0.835950        -0.767103   \n",
      "dropoff_latitude      0.000589         -0.850574         0.684558   \n",
      "passenger_count       0.012618         -0.000751        -0.001604   \n",
      "hour                 -0.013219          0.003544        -0.004675   \n",
      "day                   0.006860          0.003144        -0.006687   \n",
      "month                 0.026338         -0.003949         0.004153   \n",
      "\n",
      "                   dropoff_longitude  dropoff_latitude  passenger_count  \\\n",
      "fare_amount                -0.002413          0.000589         0.012618   \n",
      "pickup_longitude            0.835950         -0.850574        -0.000751   \n",
      "pickup_latitude            -0.767103          0.684558        -0.001604   \n",
      "dropoff_longitude           1.000000         -0.913949         0.000203   \n",
      "dropoff_latitude           -0.913949          1.000000        -0.000853   \n",
      "passenger_count             0.000203         -0.000853         1.000000   \n",
      "hour                        0.004026         -0.003166         0.013435   \n",
      "day                         0.003734         -0.006007         0.003472   \n",
      "month                      -0.003472          0.003509         0.009607   \n",
      "\n",
      "                       hour       day     month  \n",
      "fare_amount       -0.013219  0.006860  0.026338  \n",
      "pickup_longitude   0.003544  0.003144 -0.003949  \n",
      "pickup_latitude   -0.004675 -0.006687  0.004153  \n",
      "dropoff_longitude  0.004026  0.003734 -0.003472  \n",
      "dropoff_latitude  -0.003166 -0.006007  0.003509  \n",
      "passenger_count    0.013435  0.003472  0.009607  \n",
      "hour               1.000000  0.005106 -0.002705  \n",
      "day                0.005106  1.000000 -0.016254  \n",
      "month             -0.002705 -0.016254  1.000000  \n"
     ]
    }
   ],
   "source": [
    "correlation_matrix=df.corr()\n",
    "print(correlation_matrix)"
   ]
  },
  {
   "cell_type": "code",
   "execution_count": 75,
   "id": "edf5bce3",
   "metadata": {},
   "outputs": [
    {
     "data": {
      "text/plain": [
       "<Axes: >"
      ]
     },
     "execution_count": 75,
     "metadata": {},
     "output_type": "execute_result"
    },
    {
     "data": {
      "image/png": "[encoded data removed]",
      "text/plain": [
       "<Figure size 640x480 with 2 Axes>"
      ]
     },
     "metadata": {},
     "output_type": "display_data"
    }
   ],
   "source": [
    "sns.heatmap(correlation_matrix, annot=True, cmap='coolwarm')"
   ]
  },
  {
   "cell_type": "markdown",
   "id": "00d0baa3",
   "metadata": {},
   "source": [
    "## Linear Regression and random Forest"
   ]
  },
  {
   "cell_type": "code",
   "execution_count": 44,
   "id": "938e7117",
   "metadata": {},
   "outputs": [],
   "source": [
    "from sklearn.model_selection import train_test_split"
   ]
  },
  {
   "cell_type": "code",
   "execution_count": 45,
   "id": "883c72b5",
   "metadata": {},
   "outputs": [],
   "source": [
    "from sklearn.linear_model import LinearRegression\n",
    "from sklearn.ensemble import RandomForestRegressor\n",
    "from sklearn.metrics import mean_squared_error, r2_score"
   ]
  },
  {
   "cell_type": "code",
   "execution_count": 46,
   "id": "0c2be025",
   "metadata": {},
   "outputs": [],
   "source": [
    "x=df.drop('fare_amount',axis=1)     #Features\n",
    "y=df['fare_amount']                 #target Variable"
   ]
  },
  {
   "cell_type": "code",
   "execution_count": 47,
   "id": "402ac097",
   "metadata": {},
   "outputs": [],
   "source": [
    "x_train,x_test,y_train,y_test=train_test_split(x,y,test_size=0.2,random_state=42)"
   ]
  },
  {
   "cell_type": "code",
   "execution_count": 48,
   "id": "8cfb3c5c",
   "metadata": {},
   "outputs": [
    {
     "data": {
      "text/html": [
       "<div>\n",
       "<style scoped>\n",
       "    .dataframe tbody tr th:only-of-type {\n",
       "        vertical-align: middle;\n",
       "    }\n",
       "\n",
       "    .dataframe tbody tr th {\n",
       "        vertical-align: top;\n",
       "    }\n",
       "\n",
       "    .dataframe thead th {\n",
       "        text-align: right;\n",
       "    }\n",
       "</style>\n",
       "<table border=\"1\" class=\"dataframe\">\n",
       "  <thead>\n",
       "    <tr style=\"text-align: right;\">\n",
       "      <th></th>\n",
       "      <th>pickup_longitude</th>\n",
       "      <th>pickup_latitude</th>\n",
       "      <th>dropoff_longitude</th>\n",
       "      <th>dropoff_latitude</th>\n",
       "      <th>passenger_count</th>\n",
       "      <th>hour</th>\n",
       "      <th>day</th>\n",
       "      <th>month</th>\n",
       "    </tr>\n",
       "  </thead>\n",
       "  <tbody>\n",
       "    <tr>\n",
       "      <th>146349</th>\n",
       "      <td>-73.994882</td>\n",
       "      <td>40.745052</td>\n",
       "      <td>-73.984818</td>\n",
       "      <td>40.755027</td>\n",
       "      <td>1</td>\n",
       "      <td>11</td>\n",
       "      <td>29</td>\n",
       "      <td>3</td>\n",
       "    </tr>\n",
       "    <tr>\n",
       "      <th>175408</th>\n",
       "      <td>-73.981169</td>\n",
       "      <td>40.761171</td>\n",
       "      <td>-73.988466</td>\n",
       "      <td>40.776507</td>\n",
       "      <td>1</td>\n",
       "      <td>2</td>\n",
       "      <td>19</td>\n",
       "      <td>9</td>\n",
       "    </tr>\n",
       "    <tr>\n",
       "      <th>140313</th>\n",
       "      <td>-73.972489</td>\n",
       "      <td>40.752524</td>\n",
       "      <td>-74.008745</td>\n",
       "      <td>40.747413</td>\n",
       "      <td>3</td>\n",
       "      <td>19</td>\n",
       "      <td>7</td>\n",
       "      <td>11</td>\n",
       "    </tr>\n",
       "    <tr>\n",
       "      <th>151905</th>\n",
       "      <td>-73.981670</td>\n",
       "      <td>40.728602</td>\n",
       "      <td>-73.963430</td>\n",
       "      <td>40.774333</td>\n",
       "      <td>1</td>\n",
       "      <td>18</td>\n",
       "      <td>28</td>\n",
       "      <td>1</td>\n",
       "    </tr>\n",
       "    <tr>\n",
       "      <th>145703</th>\n",
       "      <td>-73.949208</td>\n",
       "      <td>40.771922</td>\n",
       "      <td>-73.975422</td>\n",
       "      <td>40.759688</td>\n",
       "      <td>1</td>\n",
       "      <td>22</td>\n",
       "      <td>1</td>\n",
       "      <td>12</td>\n",
       "    </tr>\n",
       "  </tbody>\n",
       "</table>\n",
       "</div>"
      ],
      "text/plain": [
       "        pickup_longitude  pickup_latitude  dropoff_longitude  \\\n",
       "146349        -73.994882        40.745052         -73.984818   \n",
       "175408        -73.981169        40.761171         -73.988466   \n",
       "140313        -73.972489        40.752524         -74.008745   \n",
       "151905        -73.981670        40.728602         -73.963430   \n",
       "145703        -73.949208        40.771922         -73.975422   \n",
       "\n",
       "        dropoff_latitude  passenger_count  hour  day  month  \n",
       "146349         40.755027                1    11   29      3  \n",
       "175408         40.776507                1     2   19      9  \n",
       "140313         40.747413                3    19    7     11  \n",
       "151905         40.774333                1    18   28      1  \n",
       "145703         40.759688                1    22    1     12  "
      ]
     },
     "execution_count": 48,
     "metadata": {},
     "output_type": "execute_result"
    }
   ],
   "source": [
    "x_train.head()"
   ]
  },
  {
   "cell_type": "code",
   "execution_count": 49,
   "id": "fe21c097",
   "metadata": {},
   "outputs": [
    {
     "data": {
      "text/html": [
       "<style>#sk-container-id-1 {color: black;}#sk-container-id-1 pre{padding: 0;}#sk-container-id-1 div.sk-toggleable {background-color: white;}#sk-container-id-1 label.sk-toggleable__label {cursor: pointer;display: block;width: 100%;margin-bottom: 0;padding: 0.3em;box-sizing: border-box;text-align: center;}#sk-container-id-1 label.sk-toggleable__label-arrow:before {content: \"▸\";float: left;margin-right: 0.25em;color: #696969;}#sk-container-id-1 label.sk-toggleable__label-arrow:hover:before {color: black;}#sk-container-id-1 div.sk-estimator:hover label.sk-toggleable__label-arrow:before {color: black;}#sk-container-id-1 div.sk-toggleable__content {max-height: 0;max-width: 0;overflow: hidden;text-align: left;background-color: #f0f8ff;}#sk-container-id-1 div.sk-toggleable__content pre {margin: 0.2em;color: black;border-radius: 0.25em;background-color: #f0f8ff;}#sk-container-id-1 input.sk-toggleable__control:checked~div.sk-toggleable__content {max-height: 200px;max-width: 100%;overflow: auto;}#sk-container-id-1 input.sk-toggleable__control:checked~label.sk-toggleable__label-arrow:before {content: \"▾\";}#sk-container-id-1 div.sk-estimator input.sk-toggleable__control:checked~label.sk-toggleable__label {background-color: #d4ebff;}#sk-container-id-1 div.sk-label input.sk-toggleable__control:checked~label.sk-toggleable__label {background-color: #d4ebff;}#sk-container-id-1 input.sk-hidden--visually {border: 0;clip: rect(1px 1px 1px 1px);clip: rect(1px, 1px, 1px, 1px);height: 1px;margin: -1px;overflow: hidden;padding: 0;position: absolute;width: 1px;}#sk-container-id-1 div.sk-estimator {font-family: monospace;background-color: #f0f8ff;border: 1px dotted black;border-radius: 0.25em;box-sizing: border-box;margin-bottom: 0.5em;}#sk-container-id-1 div.sk-estimator:hover {background-color: #d4ebff;}#sk-container-id-1 div.sk-parallel-item::after {content: \"\";width: 100%;border-bottom: 1px solid gray;flex-grow: 1;}#sk-container-id-1 div.sk-label:hover label.sk-toggleable__label {background-color: #d4ebff;}#sk-container-id-1 div.sk-serial::before {content: \"\";position: absolute;border-left: 1px solid gray;box-sizing: border-box;top: 0;bottom: 0;left: 50%;z-index: 0;}#sk-container-id-1 div.sk-serial {display: flex;flex-direction: column;align-items: center;background-color: white;padding-right: 0.2em;padding-left: 0.2em;position: relative;}#sk-container-id-1 div.sk-item {position: relative;z-index: 1;}#sk-container-id-1 div.sk-parallel {display: flex;align-items: stretch;justify-content: center;background-color: white;position: relative;}#sk-container-id-1 div.sk-item::before, #sk-container-id-1 div.sk-parallel-item::before {content: \"\";position: absolute;border-left: 1px solid gray;box-sizing: border-box;top: 0;bottom: 0;left: 50%;z-index: -1;}#sk-container-id-1 div.sk-parallel-item {display: flex;flex-direction: column;z-index: 1;position: relative;background-color: white;}#sk-container-id-1 div.sk-parallel-item:first-child::after {align-self: flex-end;width: 50%;}#sk-container-id-1 div.sk-parallel-item:last-child::after {align-self: flex-start;width: 50%;}#sk-container-id-1 div.sk-parallel-item:only-child::after {width: 0;}#sk-container-id-1 div.sk-dashed-wrapped {border: 1px dashed gray;margin: 0 0.4em 0.5em 0.4em;box-sizing: border-box;padding-bottom: 0.4em;background-color: white;}#sk-container-id-1 div.sk-label label {font-family: monospace;font-weight: bold;display: inline-block;line-height: 1.2em;}#sk-container-id-1 div.sk-label-container {text-align: center;}#sk-container-id-1 div.sk-container {/* jupyter's `normalize.less` sets `[hidden] { display: none; }` but bootstrap.min.css set `[hidden] { display: none !important; }` so we also need the `!important` here to be able to override the default hidden behavior on the sphinx rendered scikit-learn.org. See: https://github.com/scikit-learn/scikit-learn/issues/21755 */display: inline-block !important;position: relative;}#sk-container-id-1 div.sk-text-repr-fallback {display: none;}</style><div id=\"sk-container-id-1\" class=\"sk-top-container\"><div class=\"sk-text-repr-fallback\"><pre>LinearRegression()</pre><b>In a Jupyter environment, please rerun this cell to show the HTML representation or trust the notebook. <br />On GitHub, the HTML representation is unable to render, please try loading this page with nbviewer.org.</b></div><div class=\"sk-container\" hidden><div class=\"sk-item\"><div class=\"sk-estimator sk-toggleable\"><input class=\"sk-toggleable__control sk-hidden--visually\" id=\"sk-estimator-id-1\" type=\"checkbox\" checked><label for=\"sk-estimator-id-1\" class=\"sk-toggleable__label sk-toggleable__label-arrow\">LinearRegression</label><div class=\"sk-toggleable__content\"><pre>LinearRegression()</pre></div></div></div></div></div>"
      ],
      "text/plain": [
       "LinearRegression()"
      ]
     },
     "execution_count": 49,
     "metadata": {},
     "output_type": "execute_result"
    }
   ],
   "source": [
    "lr_model=LinearRegression()\n",
    "lr_model.fit(x_train,y_train)"
   ]
  },
  {
   "cell_type": "code",
   "execution_count": 50,
   "id": "681c246d",
   "metadata": {},
   "outputs": [],
   "source": [
    "lr_yPred=lr_model.predict(x_test)"
   ]
  },
  {
   "cell_type": "code",
   "execution_count": 51,
   "id": "e890973d",
   "metadata": {},
   "outputs": [
    {
     "data": {
      "text/plain": [
       "array([8.8274682 , 8.75821299, 8.83782089, ..., 8.95963745, 8.87791315,\n",
       "       8.88386746])"
      ]
     },
     "execution_count": 51,
     "metadata": {},
     "output_type": "execute_result"
    }
   ],
   "source": [
    "lr_yPred"
   ]
  },
  {
   "cell_type": "code",
   "execution_count": 56,
   "id": "d85bdbb8",
   "metadata": {},
   "outputs": [],
   "source": [
    "rf_model=RandomForestRegressor(n_estimators=5, random_state=42)\n",
    "rf_model.fit(x_train,y_train)\n",
    "rf_yPred=rf_model.predict(x_test)"
   ]
  },
  {
   "cell_type": "code",
   "execution_count": 57,
   "id": "f6dc17fc",
   "metadata": {},
   "outputs": [
    {
     "name": "stdout",
     "output_type": "stream",
     "text": [
      "R2 Score for Linear Regression is :  0.0008522538818107606\n"
     ]
    }
   ],
   "source": [
    "#R2 Score for Linear Regression\n",
    "r2_lr=r2_score(y_test, lr_yPred)\n",
    "print('R2 Score for Linear Regression is : ',r2_lr)"
   ]
  },
  {
   "cell_type": "code",
   "execution_count": 59,
   "id": "b9d3e4bb",
   "metadata": {},
   "outputs": [
    {
     "name": "stdout",
     "output_type": "stream",
     "text": [
      "R2 Score for Random Forest is :  0.6565213453773625\n"
     ]
    }
   ],
   "source": [
    "#R2 Score for Random Forest \n",
    "r2_rf=r2_score(y_test, rf_yPred)\n",
    "print('R2 Score for Random Forest is : ',r2_rf)"
   ]
  },
  {
   "cell_type": "code",
   "execution_count": 60,
   "id": "297877d6",
   "metadata": {},
   "outputs": [],
   "source": [
    "#Mean Squared Error for Linear regression\n",
    "mse_lr=np.sqrt(mean_squared_error(y_test, lr_yPred))"
   ]
  },
  {
   "cell_type": "code",
   "execution_count": 61,
   "id": "d1e10d37",
   "metadata": {},
   "outputs": [
    {
     "name": "stdout",
     "output_type": "stream",
     "text": [
      "MSE for Linear Regression is :  4.135032732857286\n"
     ]
    }
   ],
   "source": [
    "print('MSE for Linear Regression is : ',mse_lr)"
   ]
  },
  {
   "cell_type": "code",
   "execution_count": 62,
   "id": "c257a3d7",
   "metadata": {},
   "outputs": [],
   "source": [
    "# use same for random forest"
   ]
  },
  {
   "cell_type": "code",
   "execution_count": 72,
   "id": "35244b57",
   "metadata": {},
   "outputs": [],
   "source": [
    "# Prediction on New Data\n",
    "\n",
    "import pandas as pd\n",
    "\n",
    "# Create a new DataFrame with hour, day, and month features\n",
    "new_data = pd.DataFrame({\n",
    "    'pickup_longitude': [-73.986428],  # Example longitude for pickup\n",
    "    'pickup_latitude': [40.748917],    # Example latitude for pickup\n",
    "    'dropoff_longitude': [-73.985428], # Example longitude for drop-off\n",
    "    'dropoff_latitude': [40.748817],   # Example latitude for drop-off\n",
    "    'passenger_count': [1],            # Example number of passengers\n",
    "    'hour': [14],                      # Extracted hour from pickup_datetime\n",
    "    'day': [8],                        # Extracted day from pickup_datetime\n",
    "    'month': [10]                      # Extracted month from pickup_datetime\n",
    "})\n",
    "\n",
    "# Now you can use this new_data for predictions\n"
   ]
  },
  {
   "cell_type": "code",
   "execution_count": 71,
   "id": "2e086476",
   "metadata": {},
   "outputs": [
    {
     "name": "stdout",
     "output_type": "stream",
     "text": [
      "Predicted Price (Linear Regression): 9.005636782999247\n",
      "Predicted Price (Random Forest): 5.26\n"
     ]
    }
   ],
   "source": [
    "# Use the trained Linear Regression model to predict the price\n",
    "predicted_price_lr = lr_model.predict(new_data)\n",
    "print(\"Predicted Price (Linear Regression):\", predicted_price_lr[0])\n",
    "\n",
    "# Use the trained Random Forest Regression model to predict the price\n",
    "predicted_price_rf = rf_model.predict(new_data)\n",
    "print(\"Predicted Price (Random Forest):\", predicted_price_rf[0])\n"
   ]
  },
  {
   "cell_type": "code",
   "execution_count": null,
   "id": "5a16eec2",
   "metadata": {},
   "outputs": [],
   "source": []
  }
 ],
 "metadata": {
  "kernelspec": {
   "display_name": "Python 3 (ipykernel)",
   "language": "python",
   "name": "python3"
  },
  "language_info": {
   "codemirror_mode": {
    "name": "ipython",
    "version": 3
   },
   "file_extension": ".py",
   "mimetype": "text/x-python",
   "name": "python",
   "nbconvert_exporter": "python",
   "pygments_lexer": "ipython3",
   "version": "3.11.5"
  }
 },
 "nbformat": 4,
 "nbformat_minor": 5
}
